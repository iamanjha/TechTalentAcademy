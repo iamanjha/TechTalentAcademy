{
 "cells": [
  {
   "cell_type": "code",
   "execution_count": 2,
   "metadata": {},
   "outputs": [
    {
     "name": "stdout",
     "output_type": "stream",
     "text": [
      "The value of i is: 2000\n",
      "The value of i is: 1800.0\n",
      "The value of i is: 1620.0\n",
      "The value of i is: 1458.0\n",
      "The value of i is: 1312.2\n",
      "The value of i is: 1180.98\n",
      "The value of i is: 1062.882\n"
     ]
    }
   ],
   "source": [
    "i = 2000\n",
    "\n",
    "while i >= 1000:\n",
    "    print(\"The value of i is:\", i)\n",
    "    i *= 0.9"
   ]
  },
  {
   "cell_type": "code",
   "execution_count": 3,
   "metadata": {},
   "outputs": [
    {
     "name": "stdout",
     "output_type": "stream",
     "text": [
      "The total is 8\n"
     ]
    }
   ],
   "source": [
    "first_number = int(input(\"Enter the first number\"))\n",
    "second_number = int(input(\"Enter the second number\"))\n",
    "operator = input(\"What operator do you want to use (Enter a for addition, s for subtraction, d for division or m for multiplication?\")\n",
    "\n",
    "addition = first_number + second_number\n",
    "subtraction = first_number - second_number\n",
    "multiplication = first_number * second_number\n",
    "division = first_number / second_number\n",
    "\n",
    "if operator == \"a\":    \n",
    "    print(\"The total is\", addition)\n",
    "elif operator == \"b\":\n",
    "     print(\"The total is\", subtraction)\n",
    "elif operator == \"m\":\n",
    "     print(\"The total is\", multiplication)     \n",
    "elif operator == \"d\":\n",
    "     print(\"The total is\", division)\n",
    "else:\n",
    "    print(\"There seems to be a mistake\")"
   ]
  }
 ],
 "metadata": {
  "interpreter": {
   "hash": "d8fbfd0e76dda180114cf328ed86ae3cc640e17fecc772566a056d51f362f277"
  },
  "kernelspec": {
   "display_name": "Python 3.10.2 64-bit",
   "language": "python",
   "name": "python3"
  },
  "language_info": {
   "codemirror_mode": {
    "name": "ipython",
    "version": 3
   },
   "file_extension": ".py",
   "mimetype": "text/x-python",
   "name": "python",
   "nbconvert_exporter": "python",
   "pygments_lexer": "ipython3",
   "version": "3.10.2"
  },
  "orig_nbformat": 4
 },
 "nbformat": 4,
 "nbformat_minor": 2
}
