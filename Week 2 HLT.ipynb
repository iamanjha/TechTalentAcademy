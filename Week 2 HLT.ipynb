{
 "cells": [
  {
   "cell_type": "code",
   "execution_count": 9,
   "metadata": {},
   "outputs": [
    {
     "name": "stdout",
     "output_type": "stream",
     "text": [
      "2\n"
     ]
    }
   ],
   "source": [
    "#Question 1(A)\n",
    "import random\n",
    "number = random.randint(0,10)\n",
    "print (number)"
   ]
  },
  {
   "cell_type": "code",
   "execution_count": 10,
   "metadata": {},
   "outputs": [
    {
     "name": "stdout",
     "output_type": "stream",
     "text": [
      "Hello Aman! Hope you are well!\n"
     ]
    }
   ],
   "source": [
    "#Question 1(B)\n",
    "user_input = input(\"What is your name? \")\n",
    "print(\"Hello\", user_input + \"!\", \"Hope you are well!\")"
   ]
  },
  {
   "cell_type": "code",
   "execution_count": 11,
   "metadata": {},
   "outputs": [],
   "source": [
    "#Question 1(C)\n",
    "user_random_number = int(input(user_input + \" Guess a number between 1 to 10?\"))"
   ]
  },
  {
   "cell_type": "code",
   "execution_count": 12,
   "metadata": {},
   "outputs": [
    {
     "name": "stdout",
     "output_type": "stream",
     "text": [
      "Aman You're right!\n"
     ]
    }
   ],
   "source": [
    "#Question 1(D)\n",
    "if user_random_number==number:\n",
    "    print(user_input + \" You're right!\")\n",
    "else:\n",
    "    print(user_input + \" You're wrong!\")"
   ]
  },
  {
   "cell_type": "code",
   "execution_count": 13,
   "metadata": {},
   "outputs": [],
   "source": [
    "#Question 2\n",
    "x = int(input(user_input + \" What is your favorite number between 1 to 100?\"))"
   ]
  },
  {
   "cell_type": "code",
   "execution_count": 14,
   "metadata": {},
   "outputs": [
    {
     "name": "stdout",
     "output_type": "stream",
     "text": [
      "Joke 2\n"
     ]
    }
   ],
   "source": [
    "if x <= 33:\n",
    "    print(\"Joke 1\")\n",
    "elif x<=66:\n",
    "    print(\"Joke 2\")\n",
    "else:\n",
    "    print(\"Joke 3\")"
   ]
  },
  {
   "cell_type": "code",
   "execution_count": 15,
   "metadata": {},
   "outputs": [
    {
     "name": "stdout",
     "output_type": "stream",
     "text": [
      "Hello Aman! Your favorite meal is a b with a glass of c\n"
     ]
    }
   ],
   "source": [
    "#Question 3\n",
    "user_input = input(\"What is your name? \")\n",
    "favourite_starter = input(\"What is your favourite starter?\")\n",
    "favourite_dessert = input(\"What is your favourite dessert?\")\n",
    "favourite_drink = input(\"What is your favourite drink?\")\n",
    "print(\"Hello\", user_input + \"!\", \"Your favorite meal is\", favourite_starter, favourite_dessert + \" with a glass of\", favourite_drink)"
   ]
  },
  {
   "cell_type": "code",
   "execution_count": 16,
   "metadata": {},
   "outputs": [
    {
     "name": "stdout",
     "output_type": "stream",
     "text": [
      "The value of i is: 2000\n",
      "The value of i is: 1800.0\n",
      "The value of i is: 1620.0\n",
      "The value of i is: 1458.0\n",
      "The value of i is: 1312.2\n",
      "The value of i is: 1180.98\n",
      "The value of i is: 1062.882\n"
     ]
    }
   ],
   "source": [
    "i = 2000\n",
    "\n",
    "while i >= 1000:\n",
    "    print(\"The value of i is:\", i)\n",
    "    i *= 0.9"
   ]
  },
  {
   "cell_type": "code",
   "execution_count": 17,
   "metadata": {},
   "outputs": [
    {
     "name": "stdout",
     "output_type": "stream",
     "text": [
      "The total is 8\n"
     ]
    }
   ],
   "source": [
    "first_number = int(input(\"Enter the first number\"))\n",
    "second_number = int(input(\"Enter the second number\"))\n",
    "operator = input(\"What operator do you want to use (Enter a for addition, s for subtraction, d for division or m for multiplication?\")\n",
    "\n",
    "addition = first_number + second_number\n",
    "subtraction = first_number - second_number\n",
    "multiplication = first_number * second_number\n",
    "division = first_number / second_number\n",
    "\n",
    "if operator == \"a\":    \n",
    "    print(\"The total is\", addition)\n",
    "elif operator == \"b\":\n",
    "     print(\"The total is\", subtraction)\n",
    "elif operator == \"m\":\n",
    "     print(\"The total is\", multiplication)     \n",
    "elif operator == \"d\":\n",
    "     print(\"The total is\", division)\n",
    "else:\n",
    "    print(\"There seems to be a mistake\")"
   ]
  }
 ],
 "metadata": {
  "interpreter": {
   "hash": "d8fbfd0e76dda180114cf328ed86ae3cc640e17fecc772566a056d51f362f277"
  },
  "kernelspec": {
   "display_name": "Python 3.10.2 64-bit",
   "language": "python",
   "name": "python3"
  },
  "language_info": {
   "codemirror_mode": {
    "name": "ipython",
    "version": 3
   },
   "file_extension": ".py",
   "mimetype": "text/x-python",
   "name": "python",
   "nbconvert_exporter": "python",
   "pygments_lexer": "ipython3",
   "version": "3.10.2"
  },
  "orig_nbformat": 4
 },
 "nbformat": 4,
 "nbformat_minor": 2
}
