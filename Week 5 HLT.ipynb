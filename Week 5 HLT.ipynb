{
 "cells": [
  {
   "cell_type": "code",
   "execution_count": 1,
   "metadata": {},
   "outputs": [
    {
     "data": {
      "text/html": [
       "<div>\n",
       "<style scoped>\n",
       "    .dataframe tbody tr th:only-of-type {\n",
       "        vertical-align: middle;\n",
       "    }\n",
       "\n",
       "    .dataframe tbody tr th {\n",
       "        vertical-align: top;\n",
       "    }\n",
       "\n",
       "    .dataframe thead th {\n",
       "        text-align: right;\n",
       "    }\n",
       "</style>\n",
       "<table border=\"1\" class=\"dataframe\">\n",
       "  <thead>\n",
       "    <tr style=\"text-align: right;\">\n",
       "      <th></th>\n",
       "      <th>Destinations</th>\n",
       "      <th>Feedback_Score</th>\n",
       "      <th>Hotel_Star_Rating</th>\n",
       "      <th>No_of_Inclusive_hotels</th>\n",
       "      <th>Most_visited_City</th>\n",
       "    </tr>\n",
       "  </thead>\n",
       "  <tbody>\n",
       "    <tr>\n",
       "      <th>0</th>\n",
       "      <td>Abkhazia</td>\n",
       "      <td>5</td>\n",
       "      <td>5</td>\n",
       "      <td>718</td>\n",
       "      <td>Sukhumi</td>\n",
       "    </tr>\n",
       "    <tr>\n",
       "      <th>1</th>\n",
       "      <td>Afghanistan</td>\n",
       "      <td>2</td>\n",
       "      <td>2</td>\n",
       "      <td>540</td>\n",
       "      <td>Kabul</td>\n",
       "    </tr>\n",
       "    <tr>\n",
       "      <th>2</th>\n",
       "      <td>Akrotiri and Dhekelia</td>\n",
       "      <td>5</td>\n",
       "      <td>4</td>\n",
       "      <td>1351</td>\n",
       "      <td>Episkopi Cantonment</td>\n",
       "    </tr>\n",
       "    <tr>\n",
       "      <th>3</th>\n",
       "      <td>Albania</td>\n",
       "      <td>4</td>\n",
       "      <td>4</td>\n",
       "      <td>592</td>\n",
       "      <td>Tirana</td>\n",
       "    </tr>\n",
       "    <tr>\n",
       "      <th>4</th>\n",
       "      <td>Algeria</td>\n",
       "      <td>2</td>\n",
       "      <td>4</td>\n",
       "      <td>684</td>\n",
       "      <td>Algiers</td>\n",
       "    </tr>\n",
       "  </tbody>\n",
       "</table>\n",
       "</div>"
      ],
      "text/plain": [
       "            Destinations  Feedback_Score  Hotel_Star_Rating  \\\n",
       "0               Abkhazia               5                  5   \n",
       "1            Afghanistan               2                  2   \n",
       "2  Akrotiri and Dhekelia               5                  4   \n",
       "3                Albania               4                  4   \n",
       "4                Algeria               2                  4   \n",
       "\n",
       "   No_of_Inclusive_hotels    Most_visited_City  \n",
       "0                     718              Sukhumi  \n",
       "1                     540                Kabul  \n",
       "2                    1351  Episkopi Cantonment  \n",
       "3                     592               Tirana  \n",
       "4                     684              Algiers  "
      ]
     },
     "execution_count": 1,
     "metadata": {},
     "output_type": "execute_result"
    }
   ],
   "source": [
    "import pandas as pd\n",
    "df = pd.read_csv(\"holiday.csv\")\n",
    "df.head()"
   ]
  },
  {
   "cell_type": "code",
   "execution_count": 2,
   "metadata": {},
   "outputs": [
    {
     "data": {
      "text/plain": [
       "(248, 5)"
      ]
     },
     "execution_count": 2,
     "metadata": {},
     "output_type": "execute_result"
    }
   ],
   "source": [
    "df.shape"
   ]
  },
  {
   "cell_type": "code",
   "execution_count": 3,
   "metadata": {},
   "outputs": [
    {
     "data": {
      "text/html": [
       "<div>\n",
       "<style scoped>\n",
       "    .dataframe tbody tr th:only-of-type {\n",
       "        vertical-align: middle;\n",
       "    }\n",
       "\n",
       "    .dataframe tbody tr th {\n",
       "        vertical-align: top;\n",
       "    }\n",
       "\n",
       "    .dataframe thead th {\n",
       "        text-align: right;\n",
       "    }\n",
       "</style>\n",
       "<table border=\"1\" class=\"dataframe\">\n",
       "  <thead>\n",
       "    <tr style=\"text-align: right;\">\n",
       "      <th></th>\n",
       "      <th>Destinations</th>\n",
       "      <th>Feedback_Score</th>\n",
       "      <th>Hotel_Star_Rating</th>\n",
       "      <th>No_of_Inclusive_hotels</th>\n",
       "      <th>Most_visited_City</th>\n",
       "    </tr>\n",
       "  </thead>\n",
       "  <tbody>\n",
       "    <tr>\n",
       "      <th>3</th>\n",
       "      <td>Albania</td>\n",
       "      <td>4</td>\n",
       "      <td>4</td>\n",
       "      <td>592</td>\n",
       "      <td>Tirana</td>\n",
       "    </tr>\n",
       "    <tr>\n",
       "      <th>4</th>\n",
       "      <td>Algeria</td>\n",
       "      <td>2</td>\n",
       "      <td>4</td>\n",
       "      <td>684</td>\n",
       "      <td>Algiers</td>\n",
       "    </tr>\n",
       "    <tr>\n",
       "      <th>5</th>\n",
       "      <td>American Samoa</td>\n",
       "      <td>4</td>\n",
       "      <td>2</td>\n",
       "      <td>818</td>\n",
       "      <td>Pago Pago</td>\n",
       "    </tr>\n",
       "    <tr>\n",
       "      <th>6</th>\n",
       "      <td>Andorra</td>\n",
       "      <td>4</td>\n",
       "      <td>3</td>\n",
       "      <td>1052</td>\n",
       "      <td>Andorra la Vella</td>\n",
       "    </tr>\n",
       "    <tr>\n",
       "      <th>7</th>\n",
       "      <td>Angola</td>\n",
       "      <td>8</td>\n",
       "      <td>1</td>\n",
       "      <td>860</td>\n",
       "      <td>Luanda</td>\n",
       "    </tr>\n",
       "  </tbody>\n",
       "</table>\n",
       "</div>"
      ],
      "text/plain": [
       "     Destinations  Feedback_Score  Hotel_Star_Rating  No_of_Inclusive_hotels  \\\n",
       "3         Albania               4                  4                     592   \n",
       "4         Algeria               2                  4                     684   \n",
       "5  American Samoa               4                  2                     818   \n",
       "6         Andorra               4                  3                    1052   \n",
       "7          Angola               8                  1                     860   \n",
       "\n",
       "  Most_visited_City  \n",
       "3            Tirana  \n",
       "4           Algiers  \n",
       "5         Pago Pago  \n",
       "6  Andorra la Vella  \n",
       "7            Luanda  "
      ]
     },
     "execution_count": 3,
     "metadata": {},
     "output_type": "execute_result"
    }
   ],
   "source": [
    "df.iloc[3:8]"
   ]
  },
  {
   "cell_type": "code",
   "execution_count": 4,
   "metadata": {},
   "outputs": [
    {
     "data": {
      "text/html": [
       "<div>\n",
       "<style scoped>\n",
       "    .dataframe tbody tr th:only-of-type {\n",
       "        vertical-align: middle;\n",
       "    }\n",
       "\n",
       "    .dataframe tbody tr th {\n",
       "        vertical-align: top;\n",
       "    }\n",
       "\n",
       "    .dataframe thead th {\n",
       "        text-align: right;\n",
       "    }\n",
       "</style>\n",
       "<table border=\"1\" class=\"dataframe\">\n",
       "  <thead>\n",
       "    <tr style=\"text-align: right;\">\n",
       "      <th></th>\n",
       "      <th>Destinations</th>\n",
       "      <th>Feedback_Score</th>\n",
       "      <th>Hotel_Star_Rating</th>\n",
       "      <th>No_of_Inclusive_hotels</th>\n",
       "      <th>Most_visited_City</th>\n",
       "    </tr>\n",
       "  </thead>\n",
       "  <tbody>\n",
       "    <tr>\n",
       "      <th>3</th>\n",
       "      <td>Albania</td>\n",
       "      <td>4</td>\n",
       "      <td>4</td>\n",
       "      <td>592</td>\n",
       "      <td>Tirana</td>\n",
       "    </tr>\n",
       "    <tr>\n",
       "      <th>4</th>\n",
       "      <td>Algeria</td>\n",
       "      <td>2</td>\n",
       "      <td>4</td>\n",
       "      <td>684</td>\n",
       "      <td>Algiers</td>\n",
       "    </tr>\n",
       "    <tr>\n",
       "      <th>5</th>\n",
       "      <td>American Samoa</td>\n",
       "      <td>4</td>\n",
       "      <td>2</td>\n",
       "      <td>818</td>\n",
       "      <td>Pago Pago</td>\n",
       "    </tr>\n",
       "    <tr>\n",
       "      <th>6</th>\n",
       "      <td>Andorra</td>\n",
       "      <td>4</td>\n",
       "      <td>3</td>\n",
       "      <td>1052</td>\n",
       "      <td>Andorra la Vella</td>\n",
       "    </tr>\n",
       "    <tr>\n",
       "      <th>7</th>\n",
       "      <td>Angola</td>\n",
       "      <td>8</td>\n",
       "      <td>1</td>\n",
       "      <td>860</td>\n",
       "      <td>Luanda</td>\n",
       "    </tr>\n",
       "    <tr>\n",
       "      <th>8</th>\n",
       "      <td>Anguilla</td>\n",
       "      <td>8</td>\n",
       "      <td>4</td>\n",
       "      <td>850</td>\n",
       "      <td>The Valley</td>\n",
       "    </tr>\n",
       "  </tbody>\n",
       "</table>\n",
       "</div>"
      ],
      "text/plain": [
       "     Destinations  Feedback_Score  Hotel_Star_Rating  No_of_Inclusive_hotels  \\\n",
       "3         Albania               4                  4                     592   \n",
       "4         Algeria               2                  4                     684   \n",
       "5  American Samoa               4                  2                     818   \n",
       "6         Andorra               4                  3                    1052   \n",
       "7          Angola               8                  1                     860   \n",
       "8        Anguilla               8                  4                     850   \n",
       "\n",
       "  Most_visited_City  \n",
       "3            Tirana  \n",
       "4           Algiers  \n",
       "5         Pago Pago  \n",
       "6  Andorra la Vella  \n",
       "7            Luanda  \n",
       "8        The Valley  "
      ]
     },
     "execution_count": 4,
     "metadata": {},
     "output_type": "execute_result"
    }
   ],
   "source": [
    "df.loc[3:8]"
   ]
  },
  {
   "cell_type": "code",
   "execution_count": 5,
   "metadata": {},
   "outputs": [
    {
     "data": {
      "text/plain": [
       "999.1975806451613"
      ]
     },
     "execution_count": 5,
     "metadata": {},
     "output_type": "execute_result"
    }
   ],
   "source": [
    "df['No_of_Inclusive_hotels'].mean()"
   ]
  },
  {
   "cell_type": "code",
   "execution_count": 6,
   "metadata": {},
   "outputs": [
    {
     "name": "stderr",
     "output_type": "stream",
     "text": [
      "C:\\Users\\theam\\AppData\\Local\\Temp\\ipykernel_4952\\3698961737.py:1: FutureWarning: Dropping of nuisance columns in DataFrame reductions (with 'numeric_only=None') is deprecated; in a future version this will raise TypeError.  Select only valid columns before calling the reduction.\n",
      "  df.mean()\n"
     ]
    },
    {
     "data": {
      "text/plain": [
       "Feedback_Score              5.729839\n",
       "Hotel_Star_Rating           2.915323\n",
       "No_of_Inclusive_hotels    999.197581\n",
       "dtype: float64"
      ]
     },
     "execution_count": 6,
     "metadata": {},
     "output_type": "execute_result"
    }
   ],
   "source": [
    "df.mean()"
   ]
  },
  {
   "cell_type": "code",
   "execution_count": 7,
   "metadata": {},
   "outputs": [
    {
     "data": {
      "text/plain": [
       "Destinations               Abkhazia\n",
       "Feedback_Score                    1\n",
       "Hotel_Star_Rating                 1\n",
       "No_of_Inclusive_hotels          501\n",
       "Most_visited_City         Abu Dhabi\n",
       "dtype: object"
      ]
     },
     "execution_count": 7,
     "metadata": {},
     "output_type": "execute_result"
    }
   ],
   "source": [
    "df.min()"
   ]
  },
  {
   "cell_type": "code",
   "execution_count": 8,
   "metadata": {},
   "outputs": [
    {
     "data": {
      "text/plain": [
       "Destinations              Zimbabwe\n",
       "Feedback_Score                  10\n",
       "Hotel_Star_Rating                5\n",
       "No_of_Inclusive_hotels        1496\n",
       "Most_visited_City           Zagreb\n",
       "dtype: object"
      ]
     },
     "execution_count": 8,
     "metadata": {},
     "output_type": "execute_result"
    }
   ],
   "source": [
    "df.max()"
   ]
  },
  {
   "cell_type": "code",
   "execution_count": 9,
   "metadata": {},
   "outputs": [
    {
     "data": {
      "text/html": [
       "<div>\n",
       "<style scoped>\n",
       "    .dataframe tbody tr th:only-of-type {\n",
       "        vertical-align: middle;\n",
       "    }\n",
       "\n",
       "    .dataframe tbody tr th {\n",
       "        vertical-align: top;\n",
       "    }\n",
       "\n",
       "    .dataframe thead th {\n",
       "        text-align: right;\n",
       "    }\n",
       "</style>\n",
       "<table border=\"1\" class=\"dataframe\">\n",
       "  <thead>\n",
       "    <tr style=\"text-align: right;\">\n",
       "      <th></th>\n",
       "      <th>Destinations</th>\n",
       "    </tr>\n",
       "  </thead>\n",
       "  <tbody>\n",
       "    <tr>\n",
       "      <th>18</th>\n",
       "      <td>Bahrain</td>\n",
       "    </tr>\n",
       "    <tr>\n",
       "      <th>19</th>\n",
       "      <td>Bangladesh</td>\n",
       "    </tr>\n",
       "    <tr>\n",
       "      <th>23</th>\n",
       "      <td>Belize</td>\n",
       "    </tr>\n",
       "    <tr>\n",
       "      <th>28</th>\n",
       "      <td>Bolivia</td>\n",
       "    </tr>\n",
       "    <tr>\n",
       "      <th>41</th>\n",
       "      <td>Cayman Islands</td>\n",
       "    </tr>\n",
       "    <tr>\n",
       "      <th>64</th>\n",
       "      <td>Easter Island</td>\n",
       "    </tr>\n",
       "    <tr>\n",
       "      <th>74</th>\n",
       "      <td>Federated States of Micronesia</td>\n",
       "    </tr>\n",
       "    <tr>\n",
       "      <th>81</th>\n",
       "      <td>Gambia</td>\n",
       "    </tr>\n",
       "    <tr>\n",
       "      <th>86</th>\n",
       "      <td>Greece</td>\n",
       "    </tr>\n",
       "    <tr>\n",
       "      <th>118</th>\n",
       "      <td>Latvia</td>\n",
       "    </tr>\n",
       "    <tr>\n",
       "      <th>123</th>\n",
       "      <td>Liechtenstein</td>\n",
       "    </tr>\n",
       "    <tr>\n",
       "      <th>127</th>\n",
       "      <td>Madagascar</td>\n",
       "    </tr>\n",
       "    <tr>\n",
       "      <th>138</th>\n",
       "      <td>Monaco</td>\n",
       "    </tr>\n",
       "    <tr>\n",
       "      <th>139</th>\n",
       "      <td>Mongolia</td>\n",
       "    </tr>\n",
       "    <tr>\n",
       "      <th>141</th>\n",
       "      <td>Montserrat</td>\n",
       "    </tr>\n",
       "    <tr>\n",
       "      <th>146</th>\n",
       "      <td>Namibia</td>\n",
       "    </tr>\n",
       "    <tr>\n",
       "      <th>160</th>\n",
       "      <td>Northern Mariana Islands</td>\n",
       "    </tr>\n",
       "    <tr>\n",
       "      <th>167</th>\n",
       "      <td>Papua New Guinea</td>\n",
       "    </tr>\n",
       "    <tr>\n",
       "      <th>186</th>\n",
       "      <td>Saint Pierre and Miquelon</td>\n",
       "    </tr>\n",
       "    <tr>\n",
       "      <th>192</th>\n",
       "      <td>Senegal</td>\n",
       "    </tr>\n",
       "    <tr>\n",
       "      <th>219</th>\n",
       "      <td>Thailand</td>\n",
       "    </tr>\n",
       "    <tr>\n",
       "      <th>220</th>\n",
       "      <td>Togo</td>\n",
       "    </tr>\n",
       "    <tr>\n",
       "      <th>233</th>\n",
       "      <td>United Kingdom; England</td>\n",
       "    </tr>\n",
       "    <tr>\n",
       "      <th>238</th>\n",
       "      <td>Vanuatu</td>\n",
       "    </tr>\n",
       "    <tr>\n",
       "      <th>241</th>\n",
       "      <td>Vietnam</td>\n",
       "    </tr>\n",
       "  </tbody>\n",
       "</table>\n",
       "</div>"
      ],
      "text/plain": [
       "                       Destinations\n",
       "18                          Bahrain\n",
       "19                       Bangladesh\n",
       "23                           Belize\n",
       "28                          Bolivia\n",
       "41                   Cayman Islands\n",
       "64                    Easter Island\n",
       "74   Federated States of Micronesia\n",
       "81                           Gambia\n",
       "86                           Greece\n",
       "118                          Latvia\n",
       "123                   Liechtenstein\n",
       "127                      Madagascar\n",
       "138                          Monaco\n",
       "139                        Mongolia\n",
       "141                      Montserrat\n",
       "146                         Namibia\n",
       "160        Northern Mariana Islands\n",
       "167                Papua New Guinea\n",
       "186       Saint Pierre and Miquelon\n",
       "192                         Senegal\n",
       "219                        Thailand\n",
       "220                            Togo\n",
       "233         United Kingdom; England\n",
       "238                         Vanuatu\n",
       "241                         Vietnam"
      ]
     },
     "execution_count": 9,
     "metadata": {},
     "output_type": "execute_result"
    }
   ],
   "source": [
    "df.loc[df['Feedback_Score'] > 9, ['Destinations']]"
   ]
  },
  {
   "cell_type": "code",
   "execution_count": 11,
   "metadata": {},
   "outputs": [
    {
     "data": {
      "text/plain": [
       "0      False\n",
       "1      False\n",
       "2      False\n",
       "3      False\n",
       "4      False\n",
       "       ...  \n",
       "243    False\n",
       "244    False\n",
       "245    False\n",
       "246     True\n",
       "247    False\n",
       "Name: Feedback_Score, Length: 248, dtype: bool"
      ]
     },
     "execution_count": 11,
     "metadata": {},
     "output_type": "execute_result"
    }
   ],
   "source": [
    "filt = df['Feedback_Score'] > 8\n",
    "filt"
   ]
  },
  {
   "cell_type": "code",
   "execution_count": 12,
   "metadata": {},
   "outputs": [
    {
     "data": {
      "text/plain": [
       "0      False\n",
       "1      False\n",
       "2      False\n",
       "3      False\n",
       "4      False\n",
       "       ...  \n",
       "243    False\n",
       "244    False\n",
       "245     True\n",
       "246    False\n",
       "247    False\n",
       "Name: Feedback_Score, Length: 248, dtype: bool"
      ]
     },
     "execution_count": 12,
     "metadata": {},
     "output_type": "execute_result"
    }
   ],
   "source": [
    "lowfil = df['Feedback_Score'] <2\n",
    "lowfil"
   ]
  }
 ],
 "metadata": {
  "interpreter": {
   "hash": "d8fbfd0e76dda180114cf328ed86ae3cc640e17fecc772566a056d51f362f277"
  },
  "kernelspec": {
   "display_name": "Python 3.10.2 64-bit",
   "language": "python",
   "name": "python3"
  },
  "language_info": {
   "codemirror_mode": {
    "name": "ipython",
    "version": 3
   },
   "file_extension": ".py",
   "mimetype": "text/x-python",
   "name": "python",
   "nbconvert_exporter": "python",
   "pygments_lexer": "ipython3",
   "version": "3.10.2"
  },
  "orig_nbformat": 4
 },
 "nbformat": 4,
 "nbformat_minor": 2
}
