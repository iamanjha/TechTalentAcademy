{
 "cells": [
  {
   "cell_type": "code",
   "execution_count": 1,
   "metadata": {},
   "outputs": [],
   "source": [
    "#Week 4 HLT Part 1 Question 1: Write a program that allows you to enter 4 numbers and stores them in a file called “Numbers”\n",
    "my_file = open(\"Numbers.txt\", \"w\")\n",
    "a = input('Enter number')\n",
    "b = input('Enter number')\n",
    "c = input('Enter number')\n",
    "d = input('Enter number')\n",
    "my_file.write(str(a))\n",
    "my_file.write(\"\\n\")\n",
    "my_file.write(str(b))\n",
    "my_file.write(\"\\n\")\n",
    "my_file.write(str(c))\n",
    "my_file.write(\"\\n\")\n",
    "my_file.write(str(d))\n",
    "my_file.close()\n"
   ]
  },
  {
   "cell_type": "code",
   "execution_count": 1,
   "metadata": {},
   "outputs": [
    {
     "name": "stdout",
     "output_type": "stream",
     "text": [
      "Enter Marks Obtained\n",
      "Your Grade is A2\n"
     ]
    }
   ],
   "source": [
    "#Week 4 HLT Part 1 Question 2\n",
    "print(\"Enter Marks Obtained\")\n",
    "marks = int(input())\n",
    "if marks>=91 and marks<=100:\n",
    "    print(\"Your Grade is A1\")\n",
    "elif marks>=81 and marks<91:\n",
    "    print(\"Your Grade is A2\")\n",
    "elif marks>=71 and marks<81:\n",
    "    print(\"Your Grade is B1\")\n",
    "elif marks>=61 and marks<71:\n",
    "    print(\"Your Grade is B2\")\n",
    "elif marks>=51 and marks<61:\n",
    "    print(\"Your Grade is C1\")\n",
    "elif marks>=41 and marks<51:\n",
    "    print(\"Your Grade is C2\")\n",
    "elif marks>=33 and marks<41:\n",
    "    print(\"Your Grade is D\")\n",
    "elif marks>=21 and marks<33:\n",
    "    print(\"Your Grade is E1\")\n",
    "elif marks>=0 and marks<21:\n",
    "    print(\"Your Grade is E2\")\n",
    "else:\n",
    "    print(\"Invalid Input!\")\n"
   ]
  },
  {
   "cell_type": "code",
   "execution_count": 18,
   "metadata": {},
   "outputs": [
    {
     "name": "stdout",
     "output_type": "stream",
     "text": [
      "Array from 0 to 9:\n",
      "[0 1 2 3 4 5 6 7 8 9]\n"
     ]
    }
   ],
   "source": [
    "#Week 4 HLT Part 2 Question 1\n",
    "import numpy as np\n",
    "x = np.arange(10)\n",
    "print(\"Array from 0 to 9:\")\n",
    "print(x)"
   ]
  },
  {
   "cell_type": "code",
   "execution_count": 19,
   "metadata": {},
   "outputs": [
    {
     "name": "stdout",
     "output_type": "stream",
     "text": [
      "[[ True  True  True]\n",
      " [ True  True  True]\n",
      " [ True  True  True]]\n"
     ]
    }
   ],
   "source": [
    "#Week 4 HLT Part 2 Question 2\n",
    "number_matrix = np.ones((3,3), dtype=bool)\n",
    "print(number_matrix)"
   ]
  },
  {
   "cell_type": "code",
   "execution_count": 37,
   "metadata": {},
   "outputs": [
    {
     "data": {
      "text/plain": [
       "array([1, 3, 5, 7, 9])"
      ]
     },
     "execution_count": 37,
     "metadata": {},
     "output_type": "execute_result"
    }
   ],
   "source": [
    "#Week 4 HLT Part 2 Question 3\n",
    "import numpy as np\n",
    "a = np.array([ 1,  2,  3,  4,  5,  6,  7,  8,  9, 10]) \n",
    "a[a%2 == 1]"
   ]
  },
  {
   "cell_type": "code",
   "execution_count": 31,
   "metadata": {},
   "outputs": [
    {
     "name": "stdout",
     "output_type": "stream",
     "text": [
      "[-1  2 -1  4 -1  6 -1  8 -1 10]\n"
     ]
    }
   ],
   "source": [
    "#Week 4 HLT Part 2 Question 4\n",
    "import numpy as np \n",
    "b = np.array([ 1,  2,  3,  4,  5,  6,  7,  8,  9, 10]) \n",
    "odd_values = (b%2 == 1) \n",
    "b[odd_values] = -1 \n",
    "print(b)"
   ]
  },
  {
   "cell_type": "code",
   "execution_count": 44,
   "metadata": {},
   "outputs": [
    {
     "name": "stdout",
     "output_type": "stream",
     "text": [
      "[[0 1 2 3 4]\n",
      " [5 6 7 8 9]]\n"
     ]
    }
   ],
   "source": [
    "#Week 4 HLT Part 2 Question 5\n",
    "import numpy as np\n",
    "array = np.array([0, 1, 2, 3, 4, 5, 6, 7, 8, 9])\n",
    "array_2rows = np.reshape(array, (2, 5))\n",
    "print(array_2rows)"
   ]
  },
  {
   "cell_type": "code",
   "execution_count": 59,
   "metadata": {},
   "outputs": [
    {
     "name": "stdout",
     "output_type": "stream",
     "text": [
      "[[ 1  2  3]\n",
      " [ 4  5  6]\n",
      " [ 7  8  9]\n",
      " [10 11 12]\n",
      " [13 14 15]\n",
      " [16 17 18]]\n",
      "1944\n"
     ]
    }
   ],
   "source": [
    "#Week 4 HLT Part 2 Question 6\n",
    "a = np.arange (1,10).reshape (3,3)  \n",
    "b = np.arange (10,19).reshape (3,3) \n",
    "outputs = np.vstack((a, b))\n",
    "print(outputs)\n",
    "sum = np.sum(c)  \n",
    "print(sum)"
   ]
  }
 ],
 "metadata": {
  "interpreter": {
   "hash": "d8fbfd0e76dda180114cf328ed86ae3cc640e17fecc772566a056d51f362f277"
  },
  "kernelspec": {
   "display_name": "Python 3.10.2 64-bit",
   "language": "python",
   "name": "python3"
  },
  "language_info": {
   "codemirror_mode": {
    "name": "ipython",
    "version": 3
   },
   "file_extension": ".py",
   "mimetype": "text/x-python",
   "name": "python",
   "nbconvert_exporter": "python",
   "pygments_lexer": "ipython3",
   "version": "3.10.2"
  },
  "orig_nbformat": 4
 },
 "nbformat": 4,
 "nbformat_minor": 2
}
